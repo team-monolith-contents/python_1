{
 "cells": [
  {
   "cell_type": "markdown",
   "id": "2d8dd860-f8a8-4819-901a-4b8415fc85f2",
   "metadata": {
    "tags": []
   },
   "source": [
    "<div style=\"padding: 15px; border: 5px solid transparent; border-color: transparent; margin-bottom: 20px; border-radius: 4px; color: #3c763d; background-color: #dff0d8; border-color: #d6e9c6; font-weight: bold;\">\n",
    "    <br><br>\n",
    "    <div style=\"font-weight: bold; font-size: 40px\">파이썬으로 배우는 알고리즘 심화교실</div>\n",
    "    <div style=\"font-weight: bold; font-size: 20px\">(1) 생활속 정보과학</div>\n",
    "    <hr style=\"width:80%;text-align:left;margin-left:0;border:0.5px solid green\">\n",
    "    <br>\n",
    "    &#x2022; 정보과학이 우리에게 미치는 영향을 이해한다.<br>\n",
    "    &#x2022; 정보 공유의 중요성과 정보 보안의 중요성 및 방법을 이해한다.<br>\n",
    "    &#x2022; 사이버 공간에서 발생할 수 있는 문제들에 대해 이해하고 예방법에 대해 안다.<br>\n",
    "</div>"
   ]
  },
  {
   "cell_type": "markdown",
   "id": "49c5bf94-8b07-4de2-87b5-92ce3989c1c1",
   "metadata": {
    "tags": []
   },
   "source": [
    "<div style=\"padding: 15px; border: 5px solid transparent; border-color: transparent; margin-bottom: 20px; border-radius: 4px; color: #3c763d; border-color: #d6e9c6; font-weight: bold;\">\n",
    "<h2 style='font-weight: bold'>1. 정보 과학의 지식과 기술</h2>\n",
    "</div> "
   ]
  },
  {
   "cell_type": "markdown",
   "id": "46057203-60a3-4011-bb51-b53338e15741",
   "metadata": {},
   "source": [
    "정보 과학은 정보의 생성, 축적, 검색, 이용, 전달, 공유, 교환에 관한 원리를 연구하는 학문입니다.<br>\n",
    "이를 바탕으로 다양한 분야의 문제를 해결하는 기술을 정보 과학 기술이라고 합니다.<br>\n",
    "현재 정보 과학의 지식과 기술은 교육, 문화, 주거, 과학, 의료 등 거의 모든 사회 분야에서 활용되고 있습니다.<br>\n",
    "이에 따라 우리 생활과 사회가 빠르게 변화하고 있습니다.\n",
    "\n",
    "<table>\n",
    "<tr>\n",
    "    <th>\n",
    "        <img src=\"https://tmn-bucket-materials-all.s3.ap-northeast-2.amazonaws.com/image/dissac/dissac_nepes_4_01_01.PNG\" width=\"750\"><br>\n",
    "        <img src=\"https://tmn-bucket-materials-all.s3.ap-northeast-2.amazonaws.com/image/dissac/dissac_nepes_4_01_02.PNG\" width=\"750\"</th>\n",
    "<tr>\n",
    "    <th colspan=\"2\">다양한 분야에 활용되는 정보기술</th>\n",
    "</tr>\n",
    "</table>"
   ]
  },
  {
   "cell_type": "markdown",
   "id": "67dd58b9-06b6-47b5-9bf8-fbef404ea4cd",
   "metadata": {},
   "source": [
    "<div style=\"padding: 15px; border: 5px solid transparent; border-color: transparent; margin-bottom: 20px; border-radius: 4px; color: #8a6d3b;  border-color: #faebcc; font-weight: bold;\">\n",
    "    <div style=\"font-weight: bold; font-size: 20px\">✏️ [문제1]</div>\n",
    "    <br>\n",
    "    위의 예시에서 제시하지 않은 분야에서 정보기술이 사용되는 예시를 찾아봅시다.(경제, 스포츠 등..)\n",
    "</div>"
   ]
  },
  {
   "cell_type": "raw",
   "id": "d50534b6-3e87-47d6-9be7-699b94561cde",
   "metadata": {},
   "source": [
    " 👉 \n",
    " 👉 "
   ]
  },
  {
   "cell_type": "markdown",
   "id": "1358d96a-4404-40fc-80c1-dbec3bd5687f",
   "metadata": {
    "tags": []
   },
   "source": [
    "<div style=\"padding: 15px; border: 5px solid transparent; border-color: transparent; margin-bottom: 20px; border-radius: 4px; color: #3c763d; border-color: #d6e9c6; font-weight: bold;\">\n",
    "<h2 style='font-weight: bold'>2. 정보 과학의 발전이 미치는 영향</h2>\n",
    "</div> "
   ]
  },
  {
   "cell_type": "markdown",
   "id": "33dc2fb6-166b-40d2-b5a8-51e458b36795",
   "metadata": {
    "tags": []
   },
   "source": [
    "### **정보과학이 사회 분야에 미치는 영향**\n",
    "컴퓨터와 인터넷의 발달로 누구나 손쉽게 정보를 생산, 가공, 처리, 그리고 공유할 수 있게 되었습니다.<br>\n",
    "이로 인해 지식과 기술의 생명 주기가 짧아지고, 지식의 양이 빠르게 증가하며 정보의 가치가 더욱 강조되고 있습니다.<br>\n",
    "뿐만 아니라, 정보 과학의 지식과 기술의 발전으로 인해 미디어는 단방향에서 양방향으로 변화하였습니다.<br>\n",
    "이러한 변화로 인해 사회 구성원들은 서로 정보를 공유하고 소통할 수 있는 수단을 가지게 되었습니다.<br>\n",
    "이로 인해 다양한 사회적 요구와 여론을 빠르게 수렴할 수 있게 되었으며, 크라우드 펀딩과 같은 방식으로 지역과 세대 간의 격차를 줄이고 사회 통합을 이루는 노력도 나타나고 있습니다.\n",
    "\n",
    "<table>\n",
    "<tr>\n",
    "    <th><img src=\"https://tmn-bucket-materials-all.s3.ap-northeast-2.amazonaws.com/image/dissac/dissac_nepes_4_01_03.PNG\" width=\"500\"></th>\n",
    "        <th><img src=\"https://tmn-bucket-materials-all.s3.ap-northeast-2.amazonaws.com/image/dissac/dissac_nepes_4_01_04.PNG\" width=\"500\"></th>\n",
    "<tr>\n",
    "    <th colspan = '2'>정보과학이 사회 분야에 미치는 영향</th>\n",
    "</tr>\n",
    "</table>\n",
    "\n",
    "### **정보과학이 문화 분야에 미치는 영향**\n",
    "정보 과학의 발전으로 인해 정보 공유와 소통이 용이해지고, 이로 인해 문화 콘텐츠를 손쉽게 만들고 공유하는 것이 가능해졌습니다.<br>\n",
    "공유 사이트와 소셜 네트워크 서비스를 통해 문화 생활의 폭이 크게 확장되었습니다.<br>\n",
    "이러한 발전으로 문화 예술 제작에는 홀로그램, 3D 등의 기술이 활용되어 더욱 풍부하고 흥미로운 문화 콘텐츠를 손쉽게 생산하고 즐길 수 있게 되었습니다.<br>\n",
    "또한 인공지능 기술이 발전하면서, 인공지능을 이용해 만들어진 더욱 다양한 콘텐츠를 즐길 수 있으며 개인화 기술을 통해 사용자의 취향과 관심사에 맞는 문화 콘텐츠를 추천해주어 더욱 풍부한 문화 경험을 제공합니다.\n",
    "\n",
    "<table>\n",
    "<tr>\n",
    "    <th><img src=\"https://tmn-bucket-materials-all.s3.ap-northeast-2.amazonaws.com/image/dissac/dissac_nepes_4_01_05.PNG\" width=\"500\"></th>\n",
    "<tr>\n",
    "    <th>정보과학이 문화 분야에 미치는 영향</th>\n",
    "</tr>\n",
    "</table>\n",
    "    \n"
   ]
  },
  {
   "cell_type": "markdown",
   "id": "e5605f5a-a3a9-49b0-984f-aee34ecbbe54",
   "metadata": {},
   "source": [
    "<div style=\"padding: 15px; border: 5px solid transparent; border-color: transparent; margin-bottom: 20px; border-radius: 4px; color: #8a6d3b;  border-color: #faebcc; font-weight: bold;\">\n",
    "    <div style=\"font-weight: bold; font-size: 20px\">✏️ [문제2]</div>\n",
    "    <br>\n",
    "    정보 과학이 더 발달한 미래 사회의 모습은 어떨지 상상해봅시다.\n",
    "</div>"
   ]
  },
  {
   "cell_type": "raw",
   "id": "48cbe50b-3fd1-4da5-882c-8cf577b7e765",
   "metadata": {},
   "source": [
    " 👉 \n",
    " 👉 "
   ]
  },
  {
   "cell_type": "markdown",
   "id": "bc500a3b-bd5b-4020-bbcd-a178e21bf65c",
   "metadata": {
    "tags": []
   },
   "source": [
    "<div style=\"padding: 15px; border: 5px solid transparent; border-color: transparent; margin-bottom: 20px; border-radius: 4px; color: #3c763d; border-color: #d6e9c6; font-weight: bold;\">\n",
    "<h2 style='font-weight: bold'>3. 정보 보호와 공유</h2>\n",
    "</div> "
   ]
  },
  {
   "cell_type": "markdown",
   "id": "783d071a-0a22-40c0-88dc-5346f9ccb32e",
   "metadata": {
    "jp-MarkdownHeadingCollapsed": true,
    "tags": []
   },
   "source": [
    "정보 과학 기술의 발달로 누구나 손쉽게 정보를 생산하고 공유할 수 있게 되었지만, 무분별한 정보 사용으로 여러 가지 문제가 발생하고 있습니다.<br>\n",
    "따라서 보호해야 할 정보와 공유 가능한 정보를 구분하고, 이를 위한 적절한 제도와 방법을 알고 실천하는 것이 매우 중요해졌습니다.<rr>\n",
    "    \n",
    "정보 보호는 여러 가지 위협으로부터 정보를 보호하는 것을 말하며, 정보 공유는 정보를 여러 사람에게 알리거나 나누어 사용하는 것을 말합니다.<br>\n",
    "\n",
    "<table>\n",
    "<tr>\n",
    "    <th><img src=\"https://tmn-bucket-materials-all.s3.ap-northeast-2.amazonaws.com/image/dissac/dissac_nepes_4_01_06.PNG\" width=\"750\"></th>\n",
    "<tr>\n",
    "    <th>정보 보호와 정보 공유</th>\n",
    "</tr>\n",
    "</table>\n",
    "\n",
    "개인 정보는 \"개인 정보 보호법\"의 보호를 받고 있으며, 저작권은 \"저작권법\"의 보호를 받고 있습니다.<br>\n",
    "온라인상에서 정보 공유는 \"정보 통신망 이용 촉진 및 정보 보호 등에 관한 법률\"에 따라야 하며, 개인 정보와 저작물은 법에서 정하는 절차에 따라 동의를 받거나 허락을 받은 후에 목적에 맞게 사용할 수 있습니다.<br>\n",
    "공공 데이터는 해당 공공 기관에 사용 신청 절차를 거친 후 사용할 수 있습니다. 정보의 공유는 블로그, 카페, SNS, 전자 우편 등 합법적인 사이트를 이용할 수 있으며, 정보의 성격에 따라 다양한 방법으로 공유할 수 있습니다.\n",
    "\n",
    "- **개인정보 :** 개인 정보 취급이 가능하도록 허용된 정보를 목적에 맞게 사용해야 하며, 정보에 암호를 걸어 공유합니다.\n",
    "- **저작물 :** 저작물에 표시된 저작물 이용 허락 표시(CCL)에 따라 허용된 범위 내에서 공유합니다.\n",
    "- **그 외 정보 :** 공익을 목적으로 하는 정보로, 사실에 근거한 정보라면 합법적인 사이트에서 자유롭게 공유할 수 있습니다.\n",
    "    \n",
    "정보의 공유는 다양한 가치를 만듭니다.\n",
    "    \n",
    "<table>\n",
    "<tr>\n",
    "    <th><img src=\"https://tmn-bucket-materials-all.s3.ap-northeast-2.amazonaws.com/image/dissac/dissac_nepes_4_01_07.PNG\" width=\"750\"></th>\n",
    "<tr>\n",
    "    <th>정보 공유의 가치</th>\n",
    "</tr>\n",
    "</table>"
   ]
  },
  {
   "cell_type": "markdown",
   "id": "aad23a5b-c938-43bd-9798-f89c5a939670",
   "metadata": {},
   "source": [
    "<div style=\"padding: 15px; border: 5px solid transparent; border-color: transparent; margin-bottom: 20px; border-radius: 4px; color: #8a6d3b;  border-color: #faebcc; font-weight: bold;\">\n",
    "    <div style=\"font-weight: bold; font-size: 20px\">✏️ [문제3]</div>\n",
    "    <br>\n",
    "    정보 공유를 통해 가치를 창출한 경험이 있으면 공유해봅시다.\n",
    "</div>"
   ]
  },
  {
   "cell_type": "raw",
   "id": "5209411e-28ba-45da-88a1-70840770be24",
   "metadata": {},
   "source": [
    " 👉 \n",
    " 👉 "
   ]
  },
  {
   "cell_type": "markdown",
   "id": "680c3db9-771f-464c-ba77-4e5e604cadf0",
   "metadata": {
    "tags": []
   },
   "source": [
    "<div style=\"padding: 15px; border: 5px solid transparent; border-color: transparent; margin-bottom: 20px; border-radius: 4px; color: #3c763d; border-color: #d6e9c6; font-weight: bold;\">\n",
    "<h2 style='font-weight: bold'>4. 정보 보안의 개념과 중요성</h2>\n",
    "</div> "
   ]
  },
  {
   "cell_type": "markdown",
   "id": "b07201b5-fe94-4cf2-9524-94764c6f527b",
   "metadata": {
    "jp-MarkdownHeadingCollapsed": true,
    "tags": []
   },
   "source": [
    "인터넷의 발달과 컴퓨터, 스마트폰 등 정보 기기의 증가로 함께, 무단 사용자들에 의한 정보 악용, 훼손, 변조 등의 문제가 증가하고 있습니다.<br>\n",
    "이러한 위협으로부터 정보의 수집, 가공, 저장, 송수신을 안전하게 보호하는 것을 정보 보안이라고 합니다.<br>\n",
    "정보 보안을 위협하는 주요한 요소로는 악성 프로그램과 해킹이 있습니다.<br>\n",
    "악성 프로그램은 컴퓨터 시스템을 침해하고, 개인 정보를 탈취하거나 손상시키는 악의적인 소프트웨어를 말합니다.<br>\n",
    "해킹은 불법적으로 시스템에 침입하여 데이터를 훔치거나 파괴하는 행위를 의미합니다.<br>\n",
    "이러한 위협들로부터 정보 보안을 유지하기 위해 여러가지 예방법을 고려해야 합니다.\n",
    "\n",
    "- 보안 소프트웨어와 방화벽을 설치하여 시스템을 보호해야 합니다.\n",
    "- 강력한 암호화 기술을 사용하여 개인 정보를 안전하게 보호해야 합니다.\n",
    "- 권한이 없는 사용자의 접근을 차단하고, 중요한 데이터에는 접근 권한을 제한해야 합니다.\n",
    "\n",
    "정보 보안은 현대 사회에서 매우 중요한 문제로서 우리 모두가 신경써야 할 부분입니다. 개인 정보와 기업의 비밀 데이터 등 소중한 정보를 보호하여 사생활 침해와 금전적 손실을 예방하고, 안정적인 디지털 환경을 유지하는 데 큰 역할을 합니다.\n",
    "\n",
    "<table>\n",
    "<tr>\n",
    "    <th><img src=\"https://tmn-bucket-materials-all.s3.ap-northeast-2.amazonaws.com/image/dissac/dissac_nepes_4_01_08.PNG\" width=\"750\"></th>\n",
    "<tr>\n",
    "    <th>정보 보안의 위협과 예방법</th>\n",
    "</tr>\n",
    "</table>"
   ]
  },
  {
   "cell_type": "markdown",
   "id": "e7ce4cfc-0de0-43dc-9ed0-dc6e96e8d8f2",
   "metadata": {},
   "source": [
    "<div style=\"padding: 15px; border: 5px solid transparent; border-color: transparent; margin-bottom: 20px; border-radius: 4px; color: #8a6d3b;  border-color: #faebcc; font-weight: bold;\">\n",
    "    <div style=\"font-weight: bold; font-size: 20px\">✏️ [문제4]</div>\n",
    "    <br>\n",
    "    스마트폰을 안전하게 사용하기 위한 다양한 암호 설정 방법의 장단점을 분석해봅시다.\n",
    "</div>"
   ]
  },
  {
   "cell_type": "raw",
   "id": "14e23f95-2bef-4e94-a88f-d76c4fd0e83f",
   "metadata": {},
   "source": [
    " 👉 장점 : \n",
    " 👉 단점 : "
   ]
  },
  {
   "cell_type": "markdown",
   "id": "ac93382f-89e3-4c79-b3ed-4c38bb9a5309",
   "metadata": {
    "tags": []
   },
   "source": [
    "<div style=\"padding: 15px; border: 5px solid transparent; border-color: transparent; margin-bottom: 20px; border-radius: 4px; color: #3c763d; border-color: #d6e9c6; font-weight: bold;\">\n",
    "<h2 style='font-weight: bold'>5. 사이버 공간에서 발생하는 문제들</h2>\n",
    "</div> "
   ]
  },
  {
   "cell_type": "markdown",
   "id": "ade8b77f-6226-4b50-a33f-d39ed0425782",
   "metadata": {
    "jp-MarkdownHeadingCollapsed": true,
    "tags": []
   },
   "source": [
    "현대 사이버 공간은 정보의 접근성을 넓혀주고 시·공간의 제약을 벗어나 인간관계를 확장하는 등 많은 편리함을 제공합니다.<br>\n",
    "그러나 동시에 사이버 폭력, 사이버 범죄, 개인 정보 유출, 유해 정보 유통 등 많은 문제점을 야기하고 있습니다.<br>\n",
    "사이버 범죄는 인터넷과 같은 네트워크를 통해 다른 사람에게 피해를 주거나 건전한 사이버 문화를 해치는 행위를 말합니다.<br>\n",
    "이러한 문제들은 인터넷과 기술의 발전으로 인해 더욱 증가하는 추세이며, 사회적으로 중요한 문제로 인식되고 있습니다.<br>\n",
    "따라서 사이버 공간에서는 적절한 보안과 윤리적인 사용을 강조하고, 법과 제도를 통해 이러한 문제들에 대응하는 노력이 필요합니다.\n",
    "\n",
    "<table>\n",
    "<tr>\n",
    "    <th><img src=\"https://tmn-bucket-materials-all.s3.ap-northeast-2.amazonaws.com/image/dissac/dissac_nepes_4_01_09.PNG\" width=\"750\"></th>\n",
    "<tr>\n",
    "    <th>사이버 공간에서 발생하는 문제들</th>\n",
    "</tr>\n",
    "</table>\n",
    "\n",
    "사이버 공간에서 발생하는 문제점을 예방하기 위해서는 사이버 공간에서도 예절을 지키고 도덕적으로 책임 있는 행동을 해야 합니다.<br>\n",
    "그리고 피해 유형에 따라 도움을 받을 수 있는 기관을 알아두는 것도 좋은 방법입니다.\n",
    "\n",
    "|구분|기관명|홈페이지|전화번호|\n",
    "|---|---|---|---|\n",
    "|저작권 침해 신고|한국저작권보호원|http://www.kcopa.or.kr|1588-0190|\n",
    "|개인 정보 침해 신고|인터넷진흥원(KISA) 개인 정보 침해 신고 센터|http://privacy.kisa.or.kr|국번 없이 118|\n",
    "|사이버 명예 훼손 신고|방송 통신 심의 위원회 인터넷 피해 구제 센터|http://kocsc.or.kr|국번 없이 1377|"
   ]
  },
  {
   "cell_type": "markdown",
   "id": "e23100bd-4aa7-4fe7-80f4-2eeb76b7a2e7",
   "metadata": {},
   "source": [
    "<div style=\"padding: 15px; border: 5px solid transparent; border-color: transparent; margin-bottom: 20px; border-radius: 4px; color: #8a6d3b;  border-color: #faebcc; font-weight: bold;\">\n",
    "    <div style=\"font-weight: bold; font-size: 20px\">✏️ [문제5]</div>\n",
    "    <br>\n",
    "    사이버 범죄를 예방할 방법을 조사하고, 공유해봅시다.\n",
    "</div>"
   ]
  },
  {
   "cell_type": "raw",
   "id": "839deb18-8b68-48fd-87d7-d03ba30b7f7b",
   "metadata": {},
   "source": [
    " 👉 \n",
    " 👉 "
   ]
  }
 ],
 "metadata": {
  "kernelspec": {
   "display_name": "Python 3 (ipykernel)",
   "language": "python",
   "name": "python3"
  },
  "language_info": {
   "codemirror_mode": {
    "name": "ipython",
    "version": 3
   },
   "file_extension": ".py",
   "mimetype": "text/x-python",
   "name": "python",
   "nbconvert_exporter": "python",
   "pygments_lexer": "ipython3",
   "version": "3.10.12"
  }
 },
 "nbformat": 4,
 "nbformat_minor": 5
}
